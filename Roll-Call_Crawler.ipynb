{
 "cells": [
  {
   "cell_type": "markdown",
   "metadata": {},
   "source": [
    "# 1. 전체 투표 리스트 가져오기"
   ]
  },
  {
   "cell_type": "code",
   "execution_count": 1,
   "metadata": {},
   "outputs": [],
   "source": [
    "import requests"
   ]
  },
  {
   "cell_type": "markdown",
   "metadata": {},
   "source": [
    "## 데이터 파라미터 조사"
   ]
  },
  {
   "cell_type": "code",
   "execution_count": 2,
   "metadata": {},
   "outputs": [],
   "source": [
    "list_parameter = {\n",
    "    'billName': '',\n",
    "    'ageFrom': '20',\n",
    "    'ageTo': '20',\n",
    "    'sessionCd': '',\n",
    "    'currentsCd': '',\n",
    "    'currentsDt': '',\n",
    "    'billKind': '',\n",
    "    'chargeCommittee': '',\n",
    "    'chargeCommitteeName': '',\n",
    "    'orderColumn': '',\n",
    "    'orderType': '',\n",
    "    'lastQuery=': '',\n",
    "    'strPage': '',\n",
    "    'pageSize': '2239',\n",
    "    'maxPage': '',\n",
    "    'billNo': '',\n",
    "    'allCount': '',\n",
    "    'tabMenuType': 'billVoteResult',\n",
    "    'searchYn': '전체',\n",
    "    'idMaster': '',\n",
    "    'billId': '',\n",
    "    'srchHangul': '',\n",
    "    'region': '',\n",
    "    'searchBillNo': '',\n",
    "    'searchBillName': '',\n",
    "    'voteResult': ''\n",
    "}\n",
    "    "
   ]
  },
  {
   "cell_type": "code",
   "execution_count": 3,
   "metadata": {},
   "outputs": [],
   "source": [
    "url = 'http://likms.assembly.go.kr/bill/billVoteResultListAjax.do'"
   ]
  },
  {
   "cell_type": "code",
   "execution_count": 4,
   "metadata": {},
   "outputs": [],
   "source": [
    "r = requests.post(url, params=list_parameter)"
   ]
  },
  {
   "cell_type": "code",
   "execution_count": 5,
   "metadata": {},
   "outputs": [
    {
     "data": {
      "text/plain": [
       "200"
      ]
     },
     "execution_count": 5,
     "metadata": {},
     "output_type": "execute_result"
    }
   ],
   "source": [
    "r.status_code"
   ]
  },
  {
   "cell_type": "code",
   "execution_count": 6,
   "metadata": {},
   "outputs": [],
   "source": [
    "json = r.json()"
   ]
  },
  {
   "cell_type": "code",
   "execution_count": 7,
   "metadata": {},
   "outputs": [
    {
     "data": {
      "text/plain": [
       "{'age': '20',\n",
       " 'ageName': '제20대',\n",
       " 'endDt': '20200529',\n",
       " 'ord': 20,\n",
       " 'sessionFrom': 343,\n",
       " 'sessionTo': 366,\n",
       " 'startDt': '20160530'}"
      ]
     },
     "execution_count": 7,
     "metadata": {},
     "output_type": "execute_result"
    }
   ],
   "source": [
    "json['ageMap']"
   ]
  },
  {
   "cell_type": "markdown",
   "metadata": {},
   "source": [
    "## 20대 국회 전체 본회의 투표 리스트(~2019.01.05) "
   ]
  },
  {
   "cell_type": "code",
   "execution_count": 8,
   "metadata": {},
   "outputs": [
    {
     "data": {
      "text/plain": [
       "2239"
      ]
     },
     "execution_count": 8,
     "metadata": {},
     "output_type": "execute_result"
    }
   ],
   "source": [
    "json['allCount']"
   ]
  },
  {
   "cell_type": "markdown",
   "metadata": {},
   "source": [
    "## 요청 결과 받은 본회의 투표 리스트 갯수"
   ]
  },
  {
   "cell_type": "code",
   "execution_count": 9,
   "metadata": {},
   "outputs": [
    {
     "data": {
      "text/plain": [
       "2239"
      ]
     },
     "execution_count": 9,
     "metadata": {},
     "output_type": "execute_result"
    }
   ],
   "source": [
    "len(json['resListVo'])"
   ]
  },
  {
   "cell_type": "markdown",
   "metadata": {},
   "source": [
    "## 요청 값과 페이지 값 실제 비교하기 "
   ]
  },
  {
   "cell_type": "code",
   "execution_count": 10,
   "metadata": {},
   "outputs": [
    {
     "data": {
      "text/plain": [
       "{'age': '20',\n",
       " 'agree': 158,\n",
       " 'billid': 'PRC_C1Z6N0X6S0W9I1Y5L0O6P1M6I1D0U5',\n",
       " 'billkindcd': '중요동의',\n",
       " 'billname': '국회상임위원회 위원정수에 관한 규칙 개정 특별위원회 구성의 건',\n",
       " 'billno': '2000158',\n",
       " 'currcommitte': '본회의',\n",
       " 'currentscd': 1,\n",
       " 'disagree': 0,\n",
       " 'idmaster': 95694,\n",
       " 'mtcnt': 300,\n",
       " 'page': 1,\n",
       " 'processdate': '2016-06-09',\n",
       " 'result': '원안가결',\n",
       " 'seq': 2239,\n",
       " 'sessioncd': 343,\n",
       " 'vtcnt': 159,\n",
       " 'withdraw': 1,\n",
       " 'xx': 141}"
      ]
     },
     "execution_count": 10,
     "metadata": {},
     "output_type": "execute_result"
    }
   ],
   "source": [
    "json['resListVo'][-1]"
   ]
  },
  {
   "cell_type": "markdown",
   "metadata": {},
   "source": [
    "## 데이터 저장하기(csv) "
   ]
  },
  {
   "cell_type": "code",
   "execution_count": 11,
   "metadata": {},
   "outputs": [],
   "source": [
    "import csv"
   ]
  },
  {
   "cell_type": "code",
   "execution_count": 12,
   "metadata": {},
   "outputs": [],
   "source": [
    "f = open('roll_call_list_20.csv', 'w') # 파일 객체 설정"
   ]
  },
  {
   "cell_type": "code",
   "execution_count": 13,
   "metadata": {},
   "outputs": [],
   "source": [
    "csv_writer = csv.writer(f, delimiter=',')"
   ]
  },
  {
   "cell_type": "code",
   "execution_count": 14,
   "metadata": {},
   "outputs": [
    {
     "data": {
      "text/plain": [
       "{'age': '20',\n",
       " 'agree': 209,\n",
       " 'billid': 'PRC_P1F6E0M9O0X1E0Z0G3R5N1Q7T1G4U0',\n",
       " 'billkindcd': '결의안',\n",
       " 'billname': '2015회계연도 결산 관련 감사원에 대한 감사요구안',\n",
       " 'billno': '2002009',\n",
       " 'currcommitte': '예산결산특별위원회',\n",
       " 'currentscd': 1,\n",
       " 'disagree': 1,\n",
       " 'idmaster': 100695,\n",
       " 'mtcnt': 300,\n",
       " 'page': 1,\n",
       " 'processdate': '2016-09-02',\n",
       " 'result': '원안가결',\n",
       " 'seq': 2217,\n",
       " 'sessioncd': 346,\n",
       " 'vtcnt': 216,\n",
       " 'withdraw': 6,\n",
       " 'xx': 84}"
      ]
     },
     "execution_count": 14,
     "metadata": {},
     "output_type": "execute_result"
    }
   ],
   "source": [
    "json['resListVo'][2216]"
   ]
  },
  {
   "cell_type": "code",
   "execution_count": 15,
   "metadata": {},
   "outputs": [
    {
     "data": {
      "text/plain": [
       "149"
      ]
     },
     "execution_count": 15,
     "metadata": {},
     "output_type": "execute_result"
    }
   ],
   "source": [
    "csv_writer.writerow(json['resListVo'][0].keys())"
   ]
  },
  {
   "cell_type": "code",
   "execution_count": 16,
   "metadata": {
    "scrolled": true
   },
   "outputs": [],
   "source": [
    "for bill in json['resListVo']:\n",
    "    csv_writer.writerow(bill.values())"
   ]
  },
  {
   "cell_type": "markdown",
   "metadata": {},
   "source": [
    "# 2. 의안별 의원 투표 결과 가져오기"
   ]
  },
  {
   "cell_type": "code",
   "execution_count": 17,
   "metadata": {},
   "outputs": [],
   "source": [
    "import re"
   ]
  },
  {
   "cell_type": "code",
   "execution_count": 18,
   "metadata": {},
   "outputs": [],
   "source": [
    "bill_paramter = {\n",
    "    'billName': '',\n",
    "    'ageFrom': '20',\n",
    "    'ageTo': '20',\n",
    "    'age': '20',\n",
    "    'sessionCd': '',\n",
    "    'currentsCd': '1',\n",
    "    'currentsDt': '',\n",
    "    'billKind': '', \n",
    "    'chargeCommittee': '', \n",
    "    'chargeCommitteeName': '', \n",
    "    'orderColumn': '', \n",
    "    'orderType': 'ASC',\n",
    "    'lastQuery': '',\n",
    "    'strPage': '1',\n",
    "    'pageSize': '10',\n",
    "    'maxPage': '10',\n",
    "    'billNo': '',\n",
    "    'allCount': '1',\n",
    "    'tabMenuType': 'billVoteResult',\n",
    "    'searchYn': 'ABC',\n",
    "    'idMaster': '',\n",
    "    'billId': '',\n",
    "    'srchHangul': '', \n",
    "    'region': '', \n",
    "    'searchBillNo': '', \n",
    "    'searchBillName': '', \n",
    "    'voteResult': ''\n",
    "}\n",
    "# billName, seesionCd, billNo, idMaster, billId, voteResult\n"
   ]
  },
  {
   "cell_type": "code",
   "execution_count": 19,
   "metadata": {},
   "outputs": [],
   "source": [
    "bill_url = 'http://likms.assembly.go.kr/bill/billVoteResultDetail.do'"
   ]
  },
  {
   "cell_type": "code",
   "execution_count": 20,
   "metadata": {},
   "outputs": [],
   "source": [
    "def extract_id(member):\n",
    "    p = re.search('\\d+', member)\n",
    "    return p.group(0)"
   ]
  },
  {
   "cell_type": "code",
   "execution_count": 22,
   "metadata": {},
   "outputs": [],
   "source": [
    "from bs4 import BeautifulSoup"
   ]
  },
  {
   "cell_type": "code",
   "execution_count": 23,
   "metadata": {},
   "outputs": [],
   "source": [
    "with open('roll_call_list_20.csv', 'r') as fr:\n",
    "    csv_reader = csv.DictReader(fr)\n",
    "    for row in csv_reader:\n",
    "        bill_paramter['billName'] = row['billname']\n",
    "        bill_paramter['sessionCd'] = row['sessioncd']\n",
    "        bill_paramter['idMaster'] = row['idmaster']\n",
    "        bill_paramter['billNo'] = row['billno']\n",
    "        bill_paramter['billId'] = row['billid']\n",
    "        bill_paramter['voteResult'] = row['result']\n",
    "        \n",
    "        req2 = requests.post(bill_url, params=bill_paramter)\n",
    "        html = req2.text\n",
    "        frame = BeautifulSoup(html, 'html.parser')\n",
    "        \n",
    "        agree_list = frame.select('div.line01 a')\n",
    "        disagree_list = frame.select('div.line02 a')\n",
    "        withdraw_list = frame.select('div.line03 a')\n",
    "        vote_result_list = [] # 결과값 저장 리스트 생성\n",
    "        \n",
    "        for member in agree_list:\n",
    "            member_id = extract_id(member['href']) \n",
    "            name = member.text\n",
    "            vote_result_list.append([bill_paramter['billName'],bill_paramter['billNo'], member_id, name, '찬성'])\n",
    "            \n",
    "        for member in disagree_list:\n",
    "            member_id = extract_id(member['href']) \n",
    "            name = member.text\n",
    "            vote_result_list.append([bill_paramter['billName'],bill_paramter['billNo'], member_id, name, '반대'])\n",
    "            \n",
    "        for member in withdraw_list:\n",
    "            member_id = extract_id(member['href']) \n",
    "            name = member.text\n",
    "            vote_result_list.append([bill_paramter['billName'], bill_paramter['billNo'], member_id, name, '기권'])\n",
    "        \n",
    "        \n",
    "        break"
   ]
  },
  {
   "cell_type": "code",
   "execution_count": 24,
   "metadata": {},
   "outputs": [
    {
     "data": {
      "text/plain": [
       "[['산업안전보건법 전부개정법률안(대안)', '2017834', '9770933', '강병원', '찬성'],\n",
       " ['산업안전보건법 전부개정법률안(대안)', '2017834', '9771036', '강석진', '찬성'],\n",
       " ['산업안전보건법 전부개정법률안(대안)', '2017834', '9770279', '강창일', '찬성'],\n",
       " ['산업안전보건법 전부개정법률안(대안)', '2017834', '9770708', '경대수', '찬성'],\n",
       " ['산업안전보건법 전부개정법률안(대안)', '2017834', '9771066', '권미혁', '찬성'],\n",
       " ['산업안전보건법 전부개정법률안(대안)', '2017834', '9770977', '권은희', '찬성'],\n",
       " ['산업안전보건법 전부개정법률안(대안)', '2017834', '9770998', '권칠승', '찬성'],\n",
       " ['산업안전보건법 전부개정법률안(대안)', '2017834', '9770927', '기동민', '찬성'],\n",
       " ['산업안전보건법 전부개정법률안(대안)', '2017834', '9770713', '김관영', '찬성'],\n",
       " ['산업안전보건법 전부개정법률안(대안)', '2017834', '9770719', '김도읍', '찬성'],\n",
       " ['산업안전보건법 전부개정법률안(대안)', '2017834', '9770997', '김두관', '찬성'],\n",
       " ['산업안전보건법 전부개정법률안(대안)', '2017834', '9770723', '김민기', '찬성'],\n",
       " ['산업안전보건법 전부개정법률안(대안)', '2017834', '9770983', '김병관', '찬성'],\n",
       " ['산업안전보건법 전부개정법률안(대안)', '2017834', '9770984', '김병욱', '찬성'],\n",
       " ['산업안전보건법 전부개정법률안(대안)', '2017834', '9771077', '김삼화', '찬성'],\n",
       " ['산업안전보건법 전부개정법률안(대안)', '2017834', '9770942', '김성식', '찬성'],\n",
       " ['산업안전보건법 전부개정법률안(대안)', '2017834', '9770985', '김성원', '찬성'],\n",
       " ['산업안전보건법 전부개정법률안(대안)', '2017834', '9770727', '김성찬', '찬성'],\n",
       " ['산업안전보건법 전부개정법률안(대안)', '2017834', '9771089', '김성환', '찬성'],\n",
       " ['산업안전보건법 전부개정법률안(대안)', '2017834', '9770534', '김세연', '찬성'],\n",
       " ['산업안전보건법 전부개정법률안(대안)', '2017834', '9770981', '김영진', '찬성'],\n",
       " ['산업안전보건법 전부개정법률안(대안)', '2017834', '9770934', '김영호', '찬성'],\n",
       " ['산업안전보건법 전부개정법률안(대안)', '2017834', '9771087', '김재원', '찬성'],\n",
       " ['산업안전보건법 전부개정법률안(대안)', '2017834', '9770993', '김정우', '찬성'],\n",
       " ['산업안전보건법 전부개정법률안(대안)', '2017834', '9771083', '김종대', '찬성'],\n",
       " ['산업안전보건법 전부개정법률안(대안)', '2017834', '9771009', '김종민', '찬성'],\n",
       " ['산업안전보건법 전부개정법률안(대안)', '2017834', '9771016', '김종회', '찬성'],\n",
       " ['산업안전보건법 전부개정법률안(대안)', '2017834', '9770986', '김철민', '찬성'],\n",
       " ['산업안전보건법 전부개정법률안(대안)', '2017834', '9770741', '김태년', '찬성'],\n",
       " ['산업안전보건법 전부개정법률안(대안)', '2017834', '9770670', '김학용', '찬성'],\n",
       " ['산업안전보건법 전부개정법률안(대안)', '2017834', '9770991', '김한정', '찬성'],\n",
       " ['산업안전보건법 전부개정법률안(대안)', '2017834', '9770744', '김한표', '찬성'],\n",
       " ['산업안전보건법 전부개정법률안(대안)', '2017834', '9770953', '김해영', '찬성'],\n",
       " ['산업안전보건법 전부개정법률안(대안)', '2017834', '9770903', '나경원', '찬성'],\n",
       " ['산업안전보건법 전부개정법률안(대안)', '2017834', '9770752', '남인순', '찬성'],\n",
       " ['산업안전보건법 전부개정법률안(대안)', '2017834', '9770753', '노웅래', '찬성'],\n",
       " ['산업안전보건법 전부개정법률안(대안)', '2017834', '9771091', '맹성규', '찬성'],\n",
       " ['산업안전보건법 전부개정법률안(대안)', '2017834', '9770084', '문희상', '찬성'],\n",
       " ['산업안전보건법 전부개정법률안(대안)', '2017834', '9770964', '민경욱', '찬성'],\n",
       " ['산업안전보건법 전부개정법률안(대안)', '2017834', '9770761', '민병두', '찬성'],\n",
       " ['산업안전보건법 전부개정법률안(대안)', '2017834', '9770764', '민홍철', '찬성'],\n",
       " ['산업안전보건법 전부개정법률안(대안)', '2017834', '9770911', '박광온', '찬성'],\n",
       " ['산업안전보건법 전부개정법률안(대안)', '2017834', '9770090', '박병석', '찬성'],\n",
       " ['산업안전보건법 전부개정법률안(대안)', '2017834', '9771073', '박선숙', '찬성'],\n",
       " ['산업안전보건법 전부개정법률안(대안)', '2017834', '9770347', '박영선', '찬성'],\n",
       " ['산업안전보건법 전부개정법률안(대안)', '2017834', '9770774', '박완주', '찬성'],\n",
       " ['산업안전보건법 전부개정법률안(대안)', '2017834', '9770929', '박용진', '찬성'],\n",
       " ['산업안전보건법 전부개정법률안(대안)', '2017834', '9770776', '박인숙', '찬성'],\n",
       " ['산업안전보건법 전부개정법률안(대안)', '2017834', '9770950', '박재호', '찬성'],\n",
       " ['산업안전보건법 전부개정법률안(대안)', '2017834', '9770995', '박정', '찬성'],\n",
       " ['산업안전보건법 전부개정법률안(대안)', '2017834', '9770932', '박주민', '찬성'],\n",
       " ['산업안전보건법 전부개정법률안(대안)', '2017834', '9770566', '박주선', '찬성'],\n",
       " ['산업안전보건법 전부개정법률안(대안)', '2017834', '9770568', '박지원', '찬성'],\n",
       " ['산업안전보건법 전부개정법률안(대안)', '2017834', '9770779', '박홍근', '찬성'],\n",
       " ['산업안전보건법 전부개정법률안(대안)', '2017834', '9770573', '백재현', '찬성'],\n",
       " ['산업안전보건법 전부개정법률안(대안)', '2017834', '9770980', '백혜련', '찬성'],\n",
       " ['산업안전보건법 전부개정법률안(대안)', '2017834', '9770356', '변재일', '찬성'],\n",
       " ['산업안전보건법 전부개정법률안(대안)', '2017834', '9770784', '서영교', '찬성'],\n",
       " ['산업안전보건법 전부개정법률안(대안)', '2017834', '9771035', '서형수', '찬성'],\n",
       " ['산업안전보건법 전부개정법률안(대안)', '2017834', '9770786', '설훈', '찬성'],\n",
       " ['산업안전보건법 전부개정법률안(대안)', '2017834', '9771008', '성일종', '찬성'],\n",
       " ['산업안전보건법 전부개정법률안(대안)', '2017834', '9770999', '소병훈', '찬성'],\n",
       " ['산업안전보건법 전부개정법률안(대안)', '2017834', '9770935', '손혜원', '찬성'],\n",
       " ['산업안전보건법 전부개정법률안(대안)', '2017834', '9771093', '송갑석', '찬성'],\n",
       " ['산업안전보건법 전부개정법률안(대안)', '2017834', '9771001', '송기헌', '찬성'],\n",
       " ['산업안전보건법 전부개정법률안(대안)', '2017834', '9770996', '송석준', '찬성'],\n",
       " ['산업안전보건법 전부개정법률안(대안)', '2017834', '9771058', '송옥주', '찬성'],\n",
       " ['산업안전보건법 전부개정법률안(대안)', '2017834', '9771039', '송희경', '찬성'],\n",
       " ['산업안전보건법 전부개정법률안(대안)', '2017834', '9770792', '신경민', '찬성'],\n",
       " ['산업안전보건법 전부개정법률안(대안)', '2017834', '9770968', '신동근', '찬성'],\n",
       " ['산업안전보건법 전부개정법률안(대안)', '2017834', '9771069', '신용현', '찬성'],\n",
       " ['산업안전보건법 전부개정법률안(대안)', '2017834', '9770989', '신창현', '찬성'],\n",
       " ['산업안전보건법 전부개정법률안(대안)', '2017834', '9771086', '심기준', '찬성'],\n",
       " ['산업안전보건법 전부개정법률안(대안)', '2017834', '9770869', '심상정', '찬성'],\n",
       " ['산업안전보건법 전부개정법률안(대안)', '2017834', '9770798', '심재권', '찬성'],\n",
       " ['산업안전보건법 전부개정법률안(대안)', '2017834', '9770372', '안민석', '찬성'],\n",
       " ['산업안전보건법 전부개정법률안(대안)', '2017834', '9771017', '안호영', '찬성'],\n",
       " ['산업안전보건법 전부개정법률안(대안)', '2017834', '9771010', '어기구', '찬성'],\n",
       " ['산업안전보건법 전부개정법률안(대안)', '2017834', '9770802', '염동열', '찬성'],\n",
       " ['산업안전보건법 전부개정법률안(대안)', '2017834', '9770918', '오신환', '찬성'],\n",
       " ['산업안전보건법 전부개정법률안(대안)', '2017834', '9771037', '오영훈', '찬성'],\n",
       " ['산업안전보건법 전부개정법률안(대안)', '2017834', '9770380', '오제세', '찬성'],\n",
       " ['산업안전보건법 전부개정법률안(대안)', '2017834', '9770871', '우상호', '찬성'],\n",
       " ['산업안전보건법 전부개정법률안(대안)', '2017834', '9770872', '우원식', '찬성'],\n",
       " ['산업안전보건법 전부개정법률안(대안)', '2017834', '9770592', '원유철', '찬성'],\n",
       " ['산업안전보건법 전부개정법률안(대안)', '2017834', '9770386', '원혜영', '찬성'],\n",
       " ['산업안전보건법 전부개정법률안(대안)', '2017834', '9771038', '위성곤', '찬성'],\n",
       " ['산업안전보건법 전부개정법률안(대안)', '2017834', '9770594', '유성엽', '찬성'],\n",
       " ['산업안전보건법 전부개정법률안(대안)', '2017834', '9770497', '유승민', '찬성'],\n",
       " ['산업안전보건법 전부개정법률안(대안)', '2017834', '9770874', '유승희', '찬성'],\n",
       " ['산업안전보건법 전부개정법률안(대안)', '2017834', '9770912', '유의동', '찬성'],\n",
       " ['산업안전보건법 전부개정법률안(대안)', '2017834', '9770808', '윤관석', '찬성'],\n",
       " ['산업안전보건법 전부개정법률안(대안)', '2017834', '9770598', '윤상현', '찬성'],\n",
       " ['산업안전보건법 전부개정법률안(대안)', '2017834', '9771085', '윤소하', '찬성'],\n",
       " ['산업안전보건법 전부개정법률안(대안)', '2017834', '9771095', '윤일규', '찬성'],\n",
       " ['산업안전보건법 전부개정법률안(대안)', '2017834', '9770876', '윤호중', '찬성'],\n",
       " ['산업안전보건법 전부개정법률안(대안)', '2017834', '9770813', '윤후덕', '찬성'],\n",
       " ['산업안전보건법 전부개정법률안(대안)', '2017834', '9771097', '이규희', '찬성'],\n",
       " ['산업안전보건법 전부개정법률안(대안)', '2017834', '9771080', '이동섭', '찬성'],\n",
       " ['산업안전보건법 전부개정법률안(대안)', '2017834', '9771028', '이만희', '찬성'],\n",
       " ['산업안전보건법 전부개정법률안(대안)', '2017834', '9770602', '이명수', '찬성'],\n",
       " ['산업안전보건법 전부개정법률안(대안)', '2017834', '9771072', '이상돈', '찬성'],\n",
       " ['산업안전보건법 전부개정법률안(대안)', '2017834', '9770414', '이상민', '찬성'],\n",
       " ['산업안전보건법 전부개정법률안(대안)', '2017834', '9771098', '이상헌', '찬성'],\n",
       " ['산업안전보건법 전부개정법률안(대안)', '2017834', '9770416', '이석현', '찬성'],\n",
       " ['산업안전보건법 전부개정법률안(대안)', '2017834', '9771088', '이수혁', '찬성'],\n",
       " ['산업안전보건법 전부개정법률안(대안)', '2017834', '9770824', '이완영', '찬성'],\n",
       " ['산업안전보건법 전부개정법률안(대안)', '2017834', '9771067', '이용득', '찬성'],\n",
       " ['산업안전보건법 전부개정법률안(대안)', '2017834', '9771015', '이용호', '찬성'],\n",
       " ['산업안전보건법 전부개정법률안(대안)', '2017834', '9770972', '이은권', '찬성'],\n",
       " ['산업안전보건법 전부개정법률안(대안)', '2017834', '9770878', '이인영', '찬성'],\n",
       " ['산업안전보건법 전부개정법률안(대안)', '2017834', '9770829', '이장우', '찬성'],\n",
       " ['산업안전보건법 전부개정법률안(대안)', '2017834', '9771060', '이재정', '찬성'],\n",
       " ['산업안전보건법 전부개정법률안(대안)', '2017834', '9771082', '이정미', '찬성'],\n",
       " ['산업안전보건법 전부개정법률안(대안)', '2017834', '9770916', '이정현', '찬성'],\n",
       " ['산업안전보건법 전부개정법률안(대안)', '2017834', '9771040', '이종명', '찬성'],\n",
       " ['산업안전보건법 전부개정법률안(대안)', '2017834', '9770835', '이채익', '찬성'],\n",
       " ['산업안전보건법 전부개정법률안(대안)', '2017834', '9770836', '이학영', '찬성'],\n",
       " ['산업안전보건법 전부개정법률안(대안)', '2017834', '9770625', '이학재', '찬성'],\n",
       " ['산업안전보건법 전부개정법률안(대안)', '2017834', '9770879', '이해찬', '찬성'],\n",
       " ['산업안전보건법 전부개정법률안(대안)', '2017834', '9770837', '이헌승', '찬성'],\n",
       " ['산업안전보건법 전부개정법률안(대안)', '2017834', '9770838', '이현재', '찬성'],\n",
       " ['산업안전보건법 전부개정법률안(대안)', '2017834', '9770943', '이혜훈', '찬성'],\n",
       " ['산업안전보건법 전부개정법률안(대안)', '2017834', '9771099', '이후삼', '찬성'],\n",
       " ['산업안전보건법 전부개정법률안(대안)', '2017834', '9770939', '이훈', '찬성'],\n",
       " ['산업안전보건법 전부개정법률안(대안)', '2017834', '9770839', '인재근', '찬성'],\n",
       " ['산업안전보건법 전부개정법률안(대안)', '2017834', '9771041', '임이자', '찬성'],\n",
       " ['산업안전보건법 전부개정법률안(대안)', '2017834', '9771000', '임종성', '찬성'],\n",
       " ['산업안전보건법 전부개정법률안(대안)', '2017834', '9771079', '장정숙', '찬성'],\n",
       " ['산업안전보건법 전부개정법률안(대안)', '2017834', '9770846', '전해철', '찬성'],\n",
       " ['산업안전보건법 전부개정법률안(대안)', '2017834', '9770926', '전혜숙', '찬성'],\n",
       " ['산업안전보건법 전부개정법률안(대안)', '2017834', '9771013', '정동영', '찬성'],\n",
       " ['산업안전보건법 전부개정법률안(대안)', '2017834', '9770229', '정병국', '찬성'],\n",
       " ['산업안전보건법 전부개정법률안(대안)', '2017834', '9770881', '정성호', '찬성'],\n",
       " ['산업안전보건법 전부개정법률안(대안)', '2017834', '9770230', '정세균', '찬성'],\n",
       " ['산업안전보건법 전부개정법률안(대안)', '2017834', '9770928', '정양석', '찬성'],\n",
       " ['산업안전보건법 전부개정법률안(대안)', '2017834', '9770907', '정용기', '찬성'],\n",
       " ['산업안전보건법 전부개정법률안(대안)', '2017834', '9771012', '정운천', '찬성'],\n",
       " ['산업안전보건법 전부개정법률안(대안)', '2017834', '9770965', '정유섭', '찬성'],\n",
       " ['산업안전보건법 전부개정법률안(대안)', '2017834', '9771020', '정인화', '찬성'],\n",
       " ['산업안전보건법 전부개정법률안(대안)', '2017834', '9771068', '정춘숙', '찬성'],\n",
       " ['산업안전보건법 전부개정법률안(대안)', '2017834', '9771064', '제윤경', '찬성'],\n",
       " ['산업안전보건법 전부개정법률안(대안)', '2017834', '9770973', '조승래', '찬성'],\n",
       " ['산업안전보건법 전부개정법률안(대안)', '2017834', '9770648', '조원진', '찬성'],\n",
       " ['산업안전보건법 전부개정법률안(대안)', '2017834', '9770990', '조응천', '찬성'],\n",
       " ['산업안전보건법 전부개정법률안(대안)', '2017834', '9771052', '조훈현', '찬성'],\n",
       " ['산업안전보건법 전부개정법률안(대안)', '2017834', '9770458', '주승용', '찬성'],\n",
       " ['산업안전보건법 전부개정법률안(대안)', '2017834', '9770925', '지상욱', '찬성'],\n",
       " ['산업안전보건법 전부개정법률안(대안)', '2017834', '9770462', '진영', '찬성'],\n",
       " ['산업안전보건법 전부개정법률안(대안)', '2017834', '9771074', '채이배', '찬성'],\n",
       " ['산업안전보건법 전부개정법률안(대안)', '2017834', '9770920', '천정배', '찬성'],\n",
       " ['산업안전보건법 전부개정법률안(대안)', '2017834', '9770976', '최경환(평)', '찬성'],\n",
       " ['산업안전보건법 전부개정법률안(대안)', '2017834', '9771027', '최교일', '찬성'],\n",
       " ['산업안전보건법 전부개정법률안(대안)', '2017834', '9771081', '최도자', '찬성'],\n",
       " ['산업안전보건법 전부개정법률안(대안)', '2017834', '9771059', '최운열', '찬성'],\n",
       " ['산업안전보건법 전부개정법률안(대안)', '2017834', '9770962', '추경호', '찬성'],\n",
       " ['산업안전보건법 전부개정법률안(대안)', '2017834', '9770659', '추미애', '찬성'],\n",
       " ['산업안전보건법 전부개정법률안(대안)', '2017834', '9770994', '표창원', '찬성'],\n",
       " ['산업안전보건법 전부개정법률안(대안)', '2017834', '9770477', '한선교', '찬성'],\n",
       " ['산업안전보건법 전부개정법률안(대안)', '2017834', '9770859', '한정애', '찬성'],\n",
       " ['산업안전보건법 전부개정법률안(대안)', '2017834', '9770860', '함진규', '찬성'],\n",
       " ['산업안전보건법 전부개정법률안(대안)', '2017834', '9770676', '홍영표', '찬성'],\n",
       " ['산업안전보건법 전부개정법률안(대안)', '2017834', '9770959', '홍의락', '찬성'],\n",
       " ['산업안전보건법 전부개정법률안(대안)', '2017834', '9770864', '홍익표', '찬성'],\n",
       " ['산업안전보건법 전부개정법률안(대안)', '2017834', '9770867', '황주홍', '찬성'],\n",
       " ['산업안전보건법 전부개정법률안(대안)', '2017834', '9771047', '전희경', '반대'],\n",
       " ['산업안전보건법 전부개정법률안(대안)', '2017834', '9770523', '김광림', '기권'],\n",
       " ['산업안전보건법 전부개정법률안(대안)', '2017834', '9770716', '김기선', '기권'],\n",
       " ['산업안전보건법 전부개정법률안(대안)', '2017834', '9770725', '김상훈', '기권'],\n",
       " ['산업안전보건법 전부개정법률안(대안)', '2017834', '9770538', '김영우', '기권'],\n",
       " ['산업안전보건법 전부개정법률안(대안)', '2017834', '9770767', '박대출', '기권'],\n",
       " ['산업안전보건법 전부개정법률안(대안)', '2017834', '9770768', '박덕흠', '기권'],\n",
       " ['산업안전보건법 전부개정법률안(대안)', '2017834', '9770899', '박명재', '기권'],\n",
       " ['산업안전보건법 전부개정법률안(대안)', '2017834', '9770944', '박성중', '기권'],\n",
       " ['산업안전보건법 전부개정법률안(대안)', '2017834', '9771030', '박완수', '기권'],\n",
       " ['산업안전보건법 전부개정법률안(대안)', '2017834', '9771094', '송언석', '기권'],\n",
       " ['산업안전보건법 전부개정법률안(대안)', '2017834', '9770138', '심재철', '기권'],\n",
       " ['산업안전보건법 전부개정법률안(대안)', '2017834', '9771034', '엄용수', '기권'],\n",
       " ['산업안전보건법 전부개정법률안(대안)', '2017834', '9770387', '유기준', '기권'],\n",
       " ['산업안전보건법 전부개정법률안(대안)', '2017834', '9770955', '윤상직', '기권'],\n",
       " ['산업안전보건법 전부개정법률안(대안)', '2017834', '9770914', '이종배', '기권'],\n",
       " ['산업안전보건법 전부개정법률안(대안)', '2017834', '9770439', '정갑윤', '기권'],\n",
       " ['산업안전보건법 전부개정법률안(대안)', '2017834', '9771043', '최연혜', '기권'],\n",
       " ['산업안전보건법 전부개정법률안(대안)', '2017834', '9770862', '홍문종', '기권'],\n",
       " ['산업안전보건법 전부개정법률안(대안)', '2017834', '9770665', '홍일표', '기권']]"
      ]
     },
     "execution_count": 24,
     "metadata": {},
     "output_type": "execute_result"
    }
   ],
   "source": [
    "vote_result_list"
   ]
  },
  {
   "cell_type": "code",
   "execution_count": 244,
   "metadata": {},
   "outputs": [],
   "source": [
    "for member in agree_list:\n",
    "    member_id = extract_id(member['href']) \n",
    "    name = member.text\n",
    "    vote_result_list.append([member_id, name, '찬성'])"
   ]
  },
  {
   "cell_type": "code",
   "execution_count": 245,
   "metadata": {},
   "outputs": [],
   "source": [
    "for member in disagree_list:\n",
    "    member_id = extract_id(member['href']) \n",
    "    name = member.text\n",
    "    vote_result_list.append([member_id, name, '반대'])"
   ]
  },
  {
   "cell_type": "code",
   "execution_count": 246,
   "metadata": {},
   "outputs": [],
   "source": [
    "for member in withdraw_list:\n",
    "    member_id = extract_id(member['href']) \n",
    "    name = member.text\n",
    "    vote_result_list.append([member_id, name, '기권'])"
   ]
  },
  {
   "cell_type": "markdown",
   "metadata": {},
   "source": [
    "##  결과리스트 "
   ]
  },
  {
   "cell_type": "code",
   "execution_count": 248,
   "metadata": {},
   "outputs": [
    {
     "data": {
      "text/plain": [
       "159"
      ]
     },
     "execution_count": 248,
     "metadata": {},
     "output_type": "execute_result"
    }
   ],
   "source": [
    "len(vote_result_list)"
   ]
  },
  {
   "cell_type": "code",
   "execution_count": 25,
   "metadata": {},
   "outputs": [],
   "source": [
    "import time"
   ]
  },
  {
   "cell_type": "code",
   "execution_count": 28,
   "metadata": {},
   "outputs": [],
   "source": [
    "with open('vote_result_list.csv', 'w') as fo:\n",
    "    csv_writer = csv.writer(fo)\n",
    "    csv_writer.writerow(['billname', 'billno', 'member_id', 'name', 'result'])\n",
    "    with open('roll_call_list_20.csv', 'r') as fr:\n",
    "        csv_reader = csv.DictReader(fr)\n",
    "        vote_result_list = [] # 결과값 저장 리스트 생성\n",
    "        for row in csv_reader:\n",
    "            bill_paramter['billName'] = row['billname']\n",
    "            bill_paramter['sessionCd'] = row['sessioncd']\n",
    "            bill_paramter['idMaster'] = row['idmaster']\n",
    "            bill_paramter['billNo'] = row['billno']\n",
    "            bill_paramter['billId'] = row['billid']\n",
    "            bill_paramter['voteResult'] = row['result']\n",
    "\n",
    "            req2 = requests.post(bill_url, params=bill_paramter)\n",
    "            html = req2.text\n",
    "            frame = BeautifulSoup(html, 'html.parser')\n",
    "\n",
    "            agree_list = frame.select('div.line01 a')\n",
    "            disagree_list = frame.select('div.line02 a')\n",
    "            withdraw_list = frame.select('div.line03 a')\n",
    "\n",
    "\n",
    "            for member in agree_list:\n",
    "                member_id = extract_id(member['href']) \n",
    "                name = member.text\n",
    "                vote_result_list.append([bill_paramter['billName'],bill_paramter['billNo'], member_id, name, '찬성'])\n",
    "\n",
    "            for member in disagree_list:\n",
    "                member_id = extract_id(member['href']) \n",
    "                name = member.text\n",
    "                vote_result_list.append([bill_paramter['billName'],bill_paramter['billNo'], member_id, name, '반대'])\n",
    "\n",
    "            for member in withdraw_list:\n",
    "                member_id = extract_id(member['href']) \n",
    "                name = member.text\n",
    "                vote_result_list.append([bill_paramter['billName'], bill_paramter['billNo'], member_id, name, '기권'])\n",
    "            time.sleep(1)\n",
    "        csv_writer.writerows(vote_result_list)\n"
   ]
  },
  {
   "cell_type": "code",
   "execution_count": 30,
   "metadata": {},
   "outputs": [],
   "source": [
    "import os"
   ]
  },
  {
   "cell_type": "code",
   "execution_count": 31,
   "metadata": {},
   "outputs": [],
   "source": [
    "cwd = os.getcwd()"
   ]
  },
  {
   "cell_type": "code",
   "execution_count": 32,
   "metadata": {},
   "outputs": [
    {
     "data": {
      "text/plain": [
       "'/Users/seo/Documents/vote_data_20'"
      ]
     },
     "execution_count": 32,
     "metadata": {},
     "output_type": "execute_result"
    }
   ],
   "source": [
    "cwd"
   ]
  },
  {
   "cell_type": "code",
   "execution_count": 36,
   "metadata": {},
   "outputs": [],
   "source": [
    "def main():\n",
    "    \n",
    "    url = 'http://www.assembly.go.kr/assm/memact/congressman/memCond/memCondListAjax.do?currentPage=1&rowPerPage=300'\n",
    "\n",
    "    \"\"\"\n",
    "    국회의원 현황 페이지의 경우 javascript 기반으로 작동되고 있다. selenium으로 접근 가능하지만, 좀 더 쉬운 방법으로 \n",
    "    http://www.assembly.go.kr/assm/memact/congressman/memCond/memCond.do 페이지를 크롬 개발자 도구 Network를 \n",
    "    보면 요청시 렌더링 되는 값들을 확인할 수 있는데 이 페이지에서는 ajax 방식을 통해 \n",
    "    http://www.assembly.go.kr/assm/memact/congressman/memCond/memCondListAjax.do의 url로 데이터를 주고 받고 있다 .\n",
    "    \n",
    "    그리고 이 url의 페이지 소스를 보면 하단부분에 currentPage와 rowPerPage라는 파라미터가 존재하는데, \n",
    "    이를 통해 ajax 결과값을 조정하는 것을 확인할 수 있다. \n",
    "    결과적으로 rowPerPage의 값이 현재 페이지에서 보여주는 데이터들을 정의함으로, 국회의원 299명을 전체 한페이지로 불러오기 위해 \n",
    "    rowPerPage 값을 300으로 정의하였다. \n",
    "    \n",
    "    \"\"\"\n",
    "    req = requests.get(url)\n",
    "    html = req.content # 요청 보낸 데이터를 받아오기\n",
    "\n",
    "    soup = BeautifulSoup(html, 'lxml') # lxml를 파서로 사용하고, BeautifulSoup에 담기\n",
    "\n",
    "    \n",
    "    \n",
    "    \n",
    "    member_list = soup.select('.memberna_list dl dt a') # select 메소드는 css selector 방식읕 통해서 특정 문단을 가져올 수 있는 방법\n",
    "\n",
    "    \"\"\"\n",
    "    css selector는 css 문법을 기반으로 작동한다.\n",
    "    css에서는 클래스 태그의 경우 .tagname\n",
    "    일반 태그의 경우 tagname으로 작동.\n",
    "    그래서 위 예제에서도 각 의원들의 값을 구글 검사 기능으로 확인해보면 \n",
    "    <div class='memberna_list'>\n",
    "        <dl>\n",
    "        <dt>\n",
    "            <strong>\n",
    "                <a href=\"javascript:jsMemPop('9770276')\" title=\"강길부의원정보 새창에서 열림\">강길부</a>\n",
    "            </strong>\n",
    "        </dt>\n",
    "        </dl>\n",
    "    </div>\n",
    "    다음과 같이 되어있기 때문에 class 태그인 memberna_list는 .memberna_list로 접근 그 안의 dl은 일반태그 이기 때문에 dl 그리고 다른 태그의 경우 일반\n",
    "    태그 이기 때문에 태그명으로만 접근이 가능하다. \n",
    "    그래서 select 안의 css selector 문법과 일치하는 모든 경우를 리스트 값으로 반환해준다. \n",
    "    참고 : id 태그의 경우에는 #tagname으로 접근 가능. \n",
    "    \"\"\"\n",
    "    \n",
    "    with open('member_list.csv', 'w') as f:\n",
    "        csv_writer = csv.writer(f)    \n",
    "        for member in member_list:\n",
    "            name = member.text # 이름값 가져오기\n",
    "            id_href = member['href'] #href 값으로 접근\n",
    "\n",
    "            pattern = re.search(r'\\d+', id_href) # 문자열에서 특정 패턴의 문자들만 가져오기 (매칭되는 결과가 있으면 True, 없으면 False 반환) 예) javascript:jsMemPop('9770933') 9770933 값만 가져오기\n",
    "\n",
    "            if pattern:\n",
    "                mem_id = pattern.group(0) # 매칭되는 값 가져오기\n",
    "\n",
    "            else:\n",
    "                mem_id = None # 매칭되는 값이 없는경우 None 값 선언\n",
    "            \n",
    "            f = open('photo/{}.jpg'.format( mem_id), 'wb') # 파일명 지정 국회의원번호.jpg (해당 경로에 photo 라는 디렉토리 생성해야함.)\n",
    "            request_photo = requests.get('http://www.assembly.go.kr/photo/{}.jpg'.format(mem_id)).content # 사진 url로 요청보내고 그 결과값 가져오기 크롬 개발자도구로 사진 url 확인가능\n",
    "            f.write(request_photo) # 사진 데이터 저장해주기\n",
    "\n",
    "            \n",
    "            csv_writer.writerow([name, mem_id]) # 파일 작성해주기\n",
    "\n",
    "        \n",
    "\n",
    "    \n",
    "\n",
    "    \n",
    "    \n",
    "    \n",
    "\n",
    "\n",
    "\n",
    "\n",
    "\n",
    "\n",
    "\n",
    "\n",
    "\n",
    "\n",
    "\n",
    "\n",
    "\n",
    "\n",
    "if __name__ == \"__main__\":\n",
    "    main()\n"
   ]
  },
  {
   "cell_type": "markdown",
   "metadata": {},
   "source": [
    "## 국회의원 개인정보 가져오기 "
   ]
  },
  {
   "cell_type": "code",
   "execution_count": 60,
   "metadata": {},
   "outputs": [],
   "source": [
    "def clean_parenthese(x):\n",
    "    return x.replace('(', '').replace(')', '')"
   ]
  },
  {
   "cell_type": "code",
   "execution_count": 63,
   "metadata": {},
   "outputs": [],
   "source": [
    "with open('member_list.csv', 'r') as fr:\n",
    "    csv_reader = csv.reader(fr)\n",
    "    with open('member_information.csv', 'w') as fw:\n",
    "        \n",
    "        \n",
    "        col = ['name', 'mem_id', 'ch_name', 'eng_name', 'birth', 'party', 'district']\n",
    "        \n",
    "        csv_writer = csv.DictWriter(fw, fieldnames=col)\n",
    "        csv_writer.writeheader()\n",
    "        \n",
    "        for name, mem_id in csv_reader:\n",
    "            url = 'http://www.assembly.go.kr/assm/memPop/memPopup.do?dept_cd={}'.format(mem_id)\n",
    "            req = requests.get(url)\n",
    "            soup = BeautifulSoup(req.text, 'html.parser')\n",
    "            info_detail = soup.select('div.profile ul > li')\n",
    "            profile_detail = soup.select('dl.pro_detail dd')\n",
    "\n",
    "            info_dictionary = {\n",
    "                'name': name,\n",
    "                'mem_id': mem_id,\n",
    "                'ch_name': clean_parenthese(info_detail[1].text.strip()),\n",
    "                'eng_name': info_detail[2].text,\n",
    "                'birth': info_detail[3].text,\n",
    "                'party': profile_detail[0].text,\n",
    "                'district': profile_detail[1].text,\n",
    "\n",
    "            }\n",
    "            csv_writer.writerow(info_dictionary)\n",
    "            \n",
    "        \n",
    "        \n",
    "            \n",
    "        "
   ]
  },
  {
   "cell_type": "code",
   "execution_count": null,
   "metadata": {},
   "outputs": [],
   "source": []
  }
 ],
 "metadata": {
  "kernelspec": {
   "display_name": "Python 3",
   "language": "python",
   "name": "python3"
  },
  "language_info": {
   "codemirror_mode": {
    "name": "ipython",
    "version": 3
   },
   "file_extension": ".py",
   "mimetype": "text/x-python",
   "name": "python",
   "nbconvert_exporter": "python",
   "pygments_lexer": "ipython3",
   "version": "3.6.1"
  }
 },
 "nbformat": 4,
 "nbformat_minor": 2
}
