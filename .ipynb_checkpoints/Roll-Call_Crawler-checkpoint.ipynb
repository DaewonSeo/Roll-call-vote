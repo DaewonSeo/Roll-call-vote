{
 "cells": [
  {
   "cell_type": "markdown",
   "metadata": {},
   "source": [
    "# 1. 전체 투표 리스트 가져오기"
   ]
  },
  {
   "cell_type": "code",
   "execution_count": 249,
   "metadata": {},
   "outputs": [],
   "source": [
    "import requests"
   ]
  },
  {
   "cell_type": "markdown",
   "metadata": {},
   "source": [
    "## 데이터 파라미터 조사"
   ]
  },
  {
   "cell_type": "code",
   "execution_count": 250,
   "metadata": {},
   "outputs": [],
   "source": [
    "list_parameter = {\n",
    "    'billName': '',\n",
    "    'ageFrom': '20',\n",
    "    'ageTo': '20',\n",
    "    'sessionCd': '',\n",
    "    'currentsCd': '',\n",
    "    'currentsDt': '',\n",
    "    'billKind': '',\n",
    "    'chargeCommittee': '',\n",
    "    'chargeCommitteeName': '',\n",
    "    'orderColumn': '',\n",
    "    'orderType': '',\n",
    "    'lastQuery=': '',\n",
    "    'strPage': '',\n",
    "    'pageSize': '2239',\n",
    "    'maxPage': '',\n",
    "    'billNo': '',\n",
    "    'allCount': '',\n",
    "    'tabMenuType': 'billVoteResult',\n",
    "    'searchYn': '전체',\n",
    "    'idMaster': '',\n",
    "    'billId': '',\n",
    "    'srchHangul': '',\n",
    "    'region': '',\n",
    "    'searchBillNo': '',\n",
    "    'searchBillName': '',\n",
    "    'voteResult': ''\n",
    "}\n",
    "    "
   ]
  },
  {
   "cell_type": "code",
   "execution_count": 251,
   "metadata": {},
   "outputs": [],
   "source": [
    "url = 'http://likms.assembly.go.kr/bill/billVoteResultListAjax.do'"
   ]
  },
  {
   "cell_type": "code",
   "execution_count": 252,
   "metadata": {},
   "outputs": [],
   "source": [
    "r = requests.post(url, params=list_parameter)"
   ]
  },
  {
   "cell_type": "code",
   "execution_count": 253,
   "metadata": {},
   "outputs": [
    {
     "data": {
      "text/plain": [
       "200"
      ]
     },
     "execution_count": 253,
     "metadata": {},
     "output_type": "execute_result"
    }
   ],
   "source": [
    "r.status_code"
   ]
  },
  {
   "cell_type": "code",
   "execution_count": 254,
   "metadata": {},
   "outputs": [],
   "source": [
    "json = r.json()"
   ]
  },
  {
   "cell_type": "code",
   "execution_count": 255,
   "metadata": {},
   "outputs": [
    {
     "data": {
      "text/plain": [
       "{'age': '20',\n",
       " 'ageName': '제20대',\n",
       " 'endDt': '20200529',\n",
       " 'ord': 20,\n",
       " 'sessionFrom': 343,\n",
       " 'sessionTo': 366,\n",
       " 'startDt': '20160530'}"
      ]
     },
     "execution_count": 255,
     "metadata": {},
     "output_type": "execute_result"
    }
   ],
   "source": [
    "json['ageMap']"
   ]
  },
  {
   "cell_type": "markdown",
   "metadata": {},
   "source": [
    "## 20대 국회 전체 본회의 투표 리스트(~2019.01.05) "
   ]
  },
  {
   "cell_type": "code",
   "execution_count": 256,
   "metadata": {},
   "outputs": [
    {
     "data": {
      "text/plain": [
       "2239"
      ]
     },
     "execution_count": 256,
     "metadata": {},
     "output_type": "execute_result"
    }
   ],
   "source": [
    "json['allCount']"
   ]
  },
  {
   "cell_type": "markdown",
   "metadata": {},
   "source": [
    "## 요청 결과 받은 본회의 투표 리스트 갯수"
   ]
  },
  {
   "cell_type": "code",
   "execution_count": 257,
   "metadata": {},
   "outputs": [
    {
     "data": {
      "text/plain": [
       "2239"
      ]
     },
     "execution_count": 257,
     "metadata": {},
     "output_type": "execute_result"
    }
   ],
   "source": [
    "len(json['resListVo'])"
   ]
  },
  {
   "cell_type": "markdown",
   "metadata": {},
   "source": [
    "## 요청 값과 페이지 값 실제 비교하기 "
   ]
  },
  {
   "cell_type": "code",
   "execution_count": 258,
   "metadata": {},
   "outputs": [
    {
     "data": {
      "text/plain": [
       "{'age': '20',\n",
       " 'agree': 158,\n",
       " 'billid': 'PRC_C1Z6N0X6S0W9I1Y5L0O6P1M6I1D0U5',\n",
       " 'billkindcd': '중요동의',\n",
       " 'billname': '국회상임위원회 위원정수에 관한 규칙 개정 특별위원회 구성의 건',\n",
       " 'billno': '2000158',\n",
       " 'currcommitte': '본회의',\n",
       " 'currentscd': 1,\n",
       " 'disagree': 0,\n",
       " 'idmaster': 95694,\n",
       " 'mtcnt': 300,\n",
       " 'page': 1,\n",
       " 'processdate': '2016-06-09',\n",
       " 'result': '원안가결',\n",
       " 'seq': 2239,\n",
       " 'sessioncd': 343,\n",
       " 'vtcnt': 159,\n",
       " 'withdraw': 1,\n",
       " 'xx': 141}"
      ]
     },
     "execution_count": 258,
     "metadata": {},
     "output_type": "execute_result"
    }
   ],
   "source": [
    "json['resListVo'][-1]"
   ]
  },
  {
   "cell_type": "markdown",
   "metadata": {},
   "source": [
    "## 데이터 저장하기(csv) "
   ]
  },
  {
   "cell_type": "code",
   "execution_count": 259,
   "metadata": {},
   "outputs": [],
   "source": [
    "import csv"
   ]
  },
  {
   "cell_type": "code",
   "execution_count": 260,
   "metadata": {},
   "outputs": [],
   "source": [
    "f = open('roll_call_list_20.csv', 'w') # 파일 객체 설정"
   ]
  },
  {
   "cell_type": "code",
   "execution_count": 261,
   "metadata": {},
   "outputs": [],
   "source": [
    "csv_writer = csv.writer(f, delimiter=',')"
   ]
  },
  {
   "cell_type": "code",
   "execution_count": 262,
   "metadata": {},
   "outputs": [
    {
     "data": {
      "text/plain": [
       "{'age': '20',\n",
       " 'agree': 209,\n",
       " 'billid': 'PRC_P1F6E0M9O0X1E0Z0G3R5N1Q7T1G4U0',\n",
       " 'billkindcd': '결의안',\n",
       " 'billname': '2015회계연도 결산 관련 감사원에 대한 감사요구안',\n",
       " 'billno': '2002009',\n",
       " 'currcommitte': '예산결산특별위원회',\n",
       " 'currentscd': 1,\n",
       " 'disagree': 1,\n",
       " 'idmaster': 100695,\n",
       " 'mtcnt': 300,\n",
       " 'page': 1,\n",
       " 'processdate': '2016-09-02',\n",
       " 'result': '원안가결',\n",
       " 'seq': 2217,\n",
       " 'sessioncd': 346,\n",
       " 'vtcnt': 216,\n",
       " 'withdraw': 6,\n",
       " 'xx': 84}"
      ]
     },
     "execution_count": 262,
     "metadata": {},
     "output_type": "execute_result"
    }
   ],
   "source": [
    "json['resListVo'][2216]"
   ]
  },
  {
   "cell_type": "code",
   "execution_count": 263,
   "metadata": {},
   "outputs": [
    {
     "data": {
      "text/plain": [
       "149"
      ]
     },
     "execution_count": 263,
     "metadata": {},
     "output_type": "execute_result"
    }
   ],
   "source": [
    "csv_writer.writerow(json['resListVo'][0].keys())"
   ]
  },
  {
   "cell_type": "code",
   "execution_count": 264,
   "metadata": {
    "scrolled": true
   },
   "outputs": [],
   "source": [
    "for bill in json['resListVo']:\n",
    "    csv_writer.writerow(bill.values())"
   ]
  },
  {
   "cell_type": "markdown",
   "metadata": {},
   "source": [
    "# 2. 의안별 의원 투표 결과 가져오기"
   ]
  },
  {
   "cell_type": "code",
   "execution_count": 268,
   "metadata": {},
   "outputs": [],
   "source": [
    "import re"
   ]
  },
  {
   "cell_type": "code",
   "execution_count": 269,
   "metadata": {},
   "outputs": [],
   "source": [
    "bill_paramter = {\n",
    "    'billName': '',\n",
    "    'ageFrom': '20',\n",
    "    'ageTo': '20',\n",
    "    'age': '20',\n",
    "    'sessionCd': '',\n",
    "    'currentsCd': '1',\n",
    "    'currentsDt': '',\n",
    "    'billKind': '', \n",
    "    'chargeCommittee': '', \n",
    "    'chargeCommitteeName': '', \n",
    "    'orderColumn': '', \n",
    "    'orderType': 'ASC',\n",
    "    'lastQuery': '',\n",
    "    'strPage': '1',\n",
    "    'pageSize': '10',\n",
    "    'maxPage': '10',\n",
    "    'billNo': '',\n",
    "    'allCount': '1',\n",
    "    'tabMenuType': 'billVoteResult',\n",
    "    'searchYn': 'ABC',\n",
    "    'idMaster': '',\n",
    "    'billId': '',\n",
    "    'srchHangul': '', \n",
    "    'region': '', \n",
    "    'searchBillNo': '', \n",
    "    'searchBillName': '', \n",
    "    'voteResult': ''\n",
    "}\n",
    "# billName, seesionCd, billNo, idMaster, billId, voteResult\n"
   ]
  },
  {
   "cell_type": "code",
   "execution_count": 270,
   "metadata": {},
   "outputs": [],
   "source": [
    "bill_url = 'http://likms.assembly.go.kr/bill/billVoteResultDetail.do'"
   ]
  },
  {
   "cell_type": "code",
   "execution_count": 271,
   "metadata": {},
   "outputs": [],
   "source": [
    "def extract_id(member):\n",
    "    p = re.search('\\d+', member)\n",
    "    return p.group(0)"
   ]
  },
  {
   "cell_type": "code",
   "execution_count": 272,
   "metadata": {},
   "outputs": [],
   "source": [
    "with open('roll_call_list_20.csv', 'r') as fr:\n",
    "    csv_reader = csv.DictReader(fr)\n",
    "    for row in csv_reader:\n",
    "        bill_paramter['billName'] = row['billname']\n",
    "        bill_paramter['sessionCd'] = row['sessioncd']\n",
    "        bill_paramter['idMaster'] = row['idmaster']\n",
    "        bill_paramter['billNo'] = row['billno']\n",
    "        bill_paramter['billId'] = row['billid']\n",
    "        bill_paramter['voteResult'] = row['result']\n",
    "        \n",
    "        req2 = requests.post(bill_url, params=bill_paramter)\n",
    "        html = req2.text\n",
    "        frame = BeautifulSoup(html, 'html.parser')\n",
    "        \n",
    "        agree_list = frame.select('div.line01 a')\n",
    "        disagree_list = frame.select('div.line02 a')\n",
    "        withdraw_list = frame.select('div.line03 a')\n",
    "        vote_result_list = [] # 결과값 저장 리스트 생성\n",
    "        \n",
    "        for member in agree_list:\n",
    "            member_id = extract_id(member['href']) \n",
    "            name = member.text\n",
    "            vote_result_list.append([bill_paramter['billName'],member_id, name, '찬성'])\n",
    "            \n",
    "        for member in disagree_list:\n",
    "            member_id = extract_id(member['href']) \n",
    "            name = member.text\n",
    "            vote_result_list.append([bill_paramter['billName'],member_id, name, '반대'])\n",
    "            \n",
    "        for member in withdraw_list:\n",
    "            member_id = extract_id(member['href']) \n",
    "            name = member.text\n",
    "            vote_result_list.append([bill_paramter['billName'],member_id, name, '기권'])\n",
    "        \n",
    "        \n",
    "        break"
   ]
  },
  {
   "cell_type": "code",
   "execution_count": 273,
   "metadata": {},
   "outputs": [
    {
     "data": {
      "text/plain": [
       "[['산업안전보건법 전부개정법률안(대안)', '9770933', '강병원', '찬성'],\n",
       " ['산업안전보건법 전부개정법률안(대안)', '9771036', '강석진', '찬성'],\n",
       " ['산업안전보건법 전부개정법률안(대안)', '9770279', '강창일', '찬성'],\n",
       " ['산업안전보건법 전부개정법률안(대안)', '9770708', '경대수', '찬성'],\n",
       " ['산업안전보건법 전부개정법률안(대안)', '9771066', '권미혁', '찬성'],\n",
       " ['산업안전보건법 전부개정법률안(대안)', '9770977', '권은희', '찬성'],\n",
       " ['산업안전보건법 전부개정법률안(대안)', '9770998', '권칠승', '찬성'],\n",
       " ['산업안전보건법 전부개정법률안(대안)', '9770927', '기동민', '찬성'],\n",
       " ['산업안전보건법 전부개정법률안(대안)', '9770713', '김관영', '찬성'],\n",
       " ['산업안전보건법 전부개정법률안(대안)', '9770719', '김도읍', '찬성'],\n",
       " ['산업안전보건법 전부개정법률안(대안)', '9770997', '김두관', '찬성'],\n",
       " ['산업안전보건법 전부개정법률안(대안)', '9770723', '김민기', '찬성'],\n",
       " ['산업안전보건법 전부개정법률안(대안)', '9770983', '김병관', '찬성'],\n",
       " ['산업안전보건법 전부개정법률안(대안)', '9770984', '김병욱', '찬성'],\n",
       " ['산업안전보건법 전부개정법률안(대안)', '9771077', '김삼화', '찬성'],\n",
       " ['산업안전보건법 전부개정법률안(대안)', '9770942', '김성식', '찬성'],\n",
       " ['산업안전보건법 전부개정법률안(대안)', '9770985', '김성원', '찬성'],\n",
       " ['산업안전보건법 전부개정법률안(대안)', '9770727', '김성찬', '찬성'],\n",
       " ['산업안전보건법 전부개정법률안(대안)', '9771089', '김성환', '찬성'],\n",
       " ['산업안전보건법 전부개정법률안(대안)', '9770534', '김세연', '찬성'],\n",
       " ['산업안전보건법 전부개정법률안(대안)', '9770981', '김영진', '찬성'],\n",
       " ['산업안전보건법 전부개정법률안(대안)', '9770934', '김영호', '찬성'],\n",
       " ['산업안전보건법 전부개정법률안(대안)', '9771087', '김재원', '찬성'],\n",
       " ['산업안전보건법 전부개정법률안(대안)', '9770993', '김정우', '찬성'],\n",
       " ['산업안전보건법 전부개정법률안(대안)', '9771083', '김종대', '찬성'],\n",
       " ['산업안전보건법 전부개정법률안(대안)', '9771009', '김종민', '찬성'],\n",
       " ['산업안전보건법 전부개정법률안(대안)', '9771016', '김종회', '찬성'],\n",
       " ['산업안전보건법 전부개정법률안(대안)', '9770986', '김철민', '찬성'],\n",
       " ['산업안전보건법 전부개정법률안(대안)', '9770741', '김태년', '찬성'],\n",
       " ['산업안전보건법 전부개정법률안(대안)', '9770670', '김학용', '찬성'],\n",
       " ['산업안전보건법 전부개정법률안(대안)', '9770991', '김한정', '찬성'],\n",
       " ['산업안전보건법 전부개정법률안(대안)', '9770744', '김한표', '찬성'],\n",
       " ['산업안전보건법 전부개정법률안(대안)', '9770953', '김해영', '찬성'],\n",
       " ['산업안전보건법 전부개정법률안(대안)', '9770903', '나경원', '찬성'],\n",
       " ['산업안전보건법 전부개정법률안(대안)', '9770752', '남인순', '찬성'],\n",
       " ['산업안전보건법 전부개정법률안(대안)', '9770753', '노웅래', '찬성'],\n",
       " ['산업안전보건법 전부개정법률안(대안)', '9771091', '맹성규', '찬성'],\n",
       " ['산업안전보건법 전부개정법률안(대안)', '9770084', '문희상', '찬성'],\n",
       " ['산업안전보건법 전부개정법률안(대안)', '9770964', '민경욱', '찬성'],\n",
       " ['산업안전보건법 전부개정법률안(대안)', '9770761', '민병두', '찬성'],\n",
       " ['산업안전보건법 전부개정법률안(대안)', '9770764', '민홍철', '찬성'],\n",
       " ['산업안전보건법 전부개정법률안(대안)', '9770911', '박광온', '찬성'],\n",
       " ['산업안전보건법 전부개정법률안(대안)', '9770090', '박병석', '찬성'],\n",
       " ['산업안전보건법 전부개정법률안(대안)', '9771073', '박선숙', '찬성'],\n",
       " ['산업안전보건법 전부개정법률안(대안)', '9770347', '박영선', '찬성'],\n",
       " ['산업안전보건법 전부개정법률안(대안)', '9770774', '박완주', '찬성'],\n",
       " ['산업안전보건법 전부개정법률안(대안)', '9770929', '박용진', '찬성'],\n",
       " ['산업안전보건법 전부개정법률안(대안)', '9770776', '박인숙', '찬성'],\n",
       " ['산업안전보건법 전부개정법률안(대안)', '9770950', '박재호', '찬성'],\n",
       " ['산업안전보건법 전부개정법률안(대안)', '9770995', '박정', '찬성'],\n",
       " ['산업안전보건법 전부개정법률안(대안)', '9770932', '박주민', '찬성'],\n",
       " ['산업안전보건법 전부개정법률안(대안)', '9770566', '박주선', '찬성'],\n",
       " ['산업안전보건법 전부개정법률안(대안)', '9770568', '박지원', '찬성'],\n",
       " ['산업안전보건법 전부개정법률안(대안)', '9770779', '박홍근', '찬성'],\n",
       " ['산업안전보건법 전부개정법률안(대안)', '9770573', '백재현', '찬성'],\n",
       " ['산업안전보건법 전부개정법률안(대안)', '9770980', '백혜련', '찬성'],\n",
       " ['산업안전보건법 전부개정법률안(대안)', '9770356', '변재일', '찬성'],\n",
       " ['산업안전보건법 전부개정법률안(대안)', '9770784', '서영교', '찬성'],\n",
       " ['산업안전보건법 전부개정법률안(대안)', '9771035', '서형수', '찬성'],\n",
       " ['산업안전보건법 전부개정법률안(대안)', '9770786', '설훈', '찬성'],\n",
       " ['산업안전보건법 전부개정법률안(대안)', '9771008', '성일종', '찬성'],\n",
       " ['산업안전보건법 전부개정법률안(대안)', '9770999', '소병훈', '찬성'],\n",
       " ['산업안전보건법 전부개정법률안(대안)', '9770935', '손혜원', '찬성'],\n",
       " ['산업안전보건법 전부개정법률안(대안)', '9771093', '송갑석', '찬성'],\n",
       " ['산업안전보건법 전부개정법률안(대안)', '9771001', '송기헌', '찬성'],\n",
       " ['산업안전보건법 전부개정법률안(대안)', '9770996', '송석준', '찬성'],\n",
       " ['산업안전보건법 전부개정법률안(대안)', '9771058', '송옥주', '찬성'],\n",
       " ['산업안전보건법 전부개정법률안(대안)', '9771039', '송희경', '찬성'],\n",
       " ['산업안전보건법 전부개정법률안(대안)', '9770792', '신경민', '찬성'],\n",
       " ['산업안전보건법 전부개정법률안(대안)', '9770968', '신동근', '찬성'],\n",
       " ['산업안전보건법 전부개정법률안(대안)', '9771069', '신용현', '찬성'],\n",
       " ['산업안전보건법 전부개정법률안(대안)', '9770989', '신창현', '찬성'],\n",
       " ['산업안전보건법 전부개정법률안(대안)', '9771086', '심기준', '찬성'],\n",
       " ['산업안전보건법 전부개정법률안(대안)', '9770869', '심상정', '찬성'],\n",
       " ['산업안전보건법 전부개정법률안(대안)', '9770798', '심재권', '찬성'],\n",
       " ['산업안전보건법 전부개정법률안(대안)', '9770372', '안민석', '찬성'],\n",
       " ['산업안전보건법 전부개정법률안(대안)', '9771017', '안호영', '찬성'],\n",
       " ['산업안전보건법 전부개정법률안(대안)', '9771010', '어기구', '찬성'],\n",
       " ['산업안전보건법 전부개정법률안(대안)', '9770802', '염동열', '찬성'],\n",
       " ['산업안전보건법 전부개정법률안(대안)', '9770918', '오신환', '찬성'],\n",
       " ['산업안전보건법 전부개정법률안(대안)', '9771037', '오영훈', '찬성'],\n",
       " ['산업안전보건법 전부개정법률안(대안)', '9770380', '오제세', '찬성'],\n",
       " ['산업안전보건법 전부개정법률안(대안)', '9770871', '우상호', '찬성'],\n",
       " ['산업안전보건법 전부개정법률안(대안)', '9770872', '우원식', '찬성'],\n",
       " ['산업안전보건법 전부개정법률안(대안)', '9770592', '원유철', '찬성'],\n",
       " ['산업안전보건법 전부개정법률안(대안)', '9770386', '원혜영', '찬성'],\n",
       " ['산업안전보건법 전부개정법률안(대안)', '9771038', '위성곤', '찬성'],\n",
       " ['산업안전보건법 전부개정법률안(대안)', '9770594', '유성엽', '찬성'],\n",
       " ['산업안전보건법 전부개정법률안(대안)', '9770497', '유승민', '찬성'],\n",
       " ['산업안전보건법 전부개정법률안(대안)', '9770874', '유승희', '찬성'],\n",
       " ['산업안전보건법 전부개정법률안(대안)', '9770912', '유의동', '찬성'],\n",
       " ['산업안전보건법 전부개정법률안(대안)', '9770808', '윤관석', '찬성'],\n",
       " ['산업안전보건법 전부개정법률안(대안)', '9770598', '윤상현', '찬성'],\n",
       " ['산업안전보건법 전부개정법률안(대안)', '9771085', '윤소하', '찬성'],\n",
       " ['산업안전보건법 전부개정법률안(대안)', '9771095', '윤일규', '찬성'],\n",
       " ['산업안전보건법 전부개정법률안(대안)', '9770876', '윤호중', '찬성'],\n",
       " ['산업안전보건법 전부개정법률안(대안)', '9770813', '윤후덕', '찬성'],\n",
       " ['산업안전보건법 전부개정법률안(대안)', '9771097', '이규희', '찬성'],\n",
       " ['산업안전보건법 전부개정법률안(대안)', '9771080', '이동섭', '찬성'],\n",
       " ['산업안전보건법 전부개정법률안(대안)', '9771028', '이만희', '찬성'],\n",
       " ['산업안전보건법 전부개정법률안(대안)', '9770602', '이명수', '찬성'],\n",
       " ['산업안전보건법 전부개정법률안(대안)', '9771072', '이상돈', '찬성'],\n",
       " ['산업안전보건법 전부개정법률안(대안)', '9770414', '이상민', '찬성'],\n",
       " ['산업안전보건법 전부개정법률안(대안)', '9771098', '이상헌', '찬성'],\n",
       " ['산업안전보건법 전부개정법률안(대안)', '9770416', '이석현', '찬성'],\n",
       " ['산업안전보건법 전부개정법률안(대안)', '9771088', '이수혁', '찬성'],\n",
       " ['산업안전보건법 전부개정법률안(대안)', '9770824', '이완영', '찬성'],\n",
       " ['산업안전보건법 전부개정법률안(대안)', '9771067', '이용득', '찬성'],\n",
       " ['산업안전보건법 전부개정법률안(대안)', '9771015', '이용호', '찬성'],\n",
       " ['산업안전보건법 전부개정법률안(대안)', '9770972', '이은권', '찬성'],\n",
       " ['산업안전보건법 전부개정법률안(대안)', '9770878', '이인영', '찬성'],\n",
       " ['산업안전보건법 전부개정법률안(대안)', '9770829', '이장우', '찬성'],\n",
       " ['산업안전보건법 전부개정법률안(대안)', '9771060', '이재정', '찬성'],\n",
       " ['산업안전보건법 전부개정법률안(대안)', '9771082', '이정미', '찬성'],\n",
       " ['산업안전보건법 전부개정법률안(대안)', '9770916', '이정현', '찬성'],\n",
       " ['산업안전보건법 전부개정법률안(대안)', '9771040', '이종명', '찬성'],\n",
       " ['산업안전보건법 전부개정법률안(대안)', '9770835', '이채익', '찬성'],\n",
       " ['산업안전보건법 전부개정법률안(대안)', '9770836', '이학영', '찬성'],\n",
       " ['산업안전보건법 전부개정법률안(대안)', '9770625', '이학재', '찬성'],\n",
       " ['산업안전보건법 전부개정법률안(대안)', '9770879', '이해찬', '찬성'],\n",
       " ['산업안전보건법 전부개정법률안(대안)', '9770837', '이헌승', '찬성'],\n",
       " ['산업안전보건법 전부개정법률안(대안)', '9770838', '이현재', '찬성'],\n",
       " ['산업안전보건법 전부개정법률안(대안)', '9770943', '이혜훈', '찬성'],\n",
       " ['산업안전보건법 전부개정법률안(대안)', '9771099', '이후삼', '찬성'],\n",
       " ['산업안전보건법 전부개정법률안(대안)', '9770939', '이훈', '찬성'],\n",
       " ['산업안전보건법 전부개정법률안(대안)', '9770839', '인재근', '찬성'],\n",
       " ['산업안전보건법 전부개정법률안(대안)', '9771041', '임이자', '찬성'],\n",
       " ['산업안전보건법 전부개정법률안(대안)', '9771000', '임종성', '찬성'],\n",
       " ['산업안전보건법 전부개정법률안(대안)', '9771079', '장정숙', '찬성'],\n",
       " ['산업안전보건법 전부개정법률안(대안)', '9770846', '전해철', '찬성'],\n",
       " ['산업안전보건법 전부개정법률안(대안)', '9770926', '전혜숙', '찬성'],\n",
       " ['산업안전보건법 전부개정법률안(대안)', '9771013', '정동영', '찬성'],\n",
       " ['산업안전보건법 전부개정법률안(대안)', '9770229', '정병국', '찬성'],\n",
       " ['산업안전보건법 전부개정법률안(대안)', '9770881', '정성호', '찬성'],\n",
       " ['산업안전보건법 전부개정법률안(대안)', '9770230', '정세균', '찬성'],\n",
       " ['산업안전보건법 전부개정법률안(대안)', '9770928', '정양석', '찬성'],\n",
       " ['산업안전보건법 전부개정법률안(대안)', '9770907', '정용기', '찬성'],\n",
       " ['산업안전보건법 전부개정법률안(대안)', '9771012', '정운천', '찬성'],\n",
       " ['산업안전보건법 전부개정법률안(대안)', '9770965', '정유섭', '찬성'],\n",
       " ['산업안전보건법 전부개정법률안(대안)', '9771020', '정인화', '찬성'],\n",
       " ['산업안전보건법 전부개정법률안(대안)', '9771068', '정춘숙', '찬성'],\n",
       " ['산업안전보건법 전부개정법률안(대안)', '9771064', '제윤경', '찬성'],\n",
       " ['산업안전보건법 전부개정법률안(대안)', '9770973', '조승래', '찬성'],\n",
       " ['산업안전보건법 전부개정법률안(대안)', '9770648', '조원진', '찬성'],\n",
       " ['산업안전보건법 전부개정법률안(대안)', '9770990', '조응천', '찬성'],\n",
       " ['산업안전보건법 전부개정법률안(대안)', '9771052', '조훈현', '찬성'],\n",
       " ['산업안전보건법 전부개정법률안(대안)', '9770458', '주승용', '찬성'],\n",
       " ['산업안전보건법 전부개정법률안(대안)', '9770925', '지상욱', '찬성'],\n",
       " ['산업안전보건법 전부개정법률안(대안)', '9770462', '진영', '찬성'],\n",
       " ['산업안전보건법 전부개정법률안(대안)', '9771074', '채이배', '찬성'],\n",
       " ['산업안전보건법 전부개정법률안(대안)', '9770920', '천정배', '찬성'],\n",
       " ['산업안전보건법 전부개정법률안(대안)', '9770976', '최경환(평)', '찬성'],\n",
       " ['산업안전보건법 전부개정법률안(대안)', '9771027', '최교일', '찬성'],\n",
       " ['산업안전보건법 전부개정법률안(대안)', '9771081', '최도자', '찬성'],\n",
       " ['산업안전보건법 전부개정법률안(대안)', '9771059', '최운열', '찬성'],\n",
       " ['산업안전보건법 전부개정법률안(대안)', '9770962', '추경호', '찬성'],\n",
       " ['산업안전보건법 전부개정법률안(대안)', '9770659', '추미애', '찬성'],\n",
       " ['산업안전보건법 전부개정법률안(대안)', '9770994', '표창원', '찬성'],\n",
       " ['산업안전보건법 전부개정법률안(대안)', '9770477', '한선교', '찬성'],\n",
       " ['산업안전보건법 전부개정법률안(대안)', '9770859', '한정애', '찬성'],\n",
       " ['산업안전보건법 전부개정법률안(대안)', '9770860', '함진규', '찬성'],\n",
       " ['산업안전보건법 전부개정법률안(대안)', '9770676', '홍영표', '찬성'],\n",
       " ['산업안전보건법 전부개정법률안(대안)', '9770959', '홍의락', '찬성'],\n",
       " ['산업안전보건법 전부개정법률안(대안)', '9770864', '홍익표', '찬성'],\n",
       " ['산업안전보건법 전부개정법률안(대안)', '9770867', '황주홍', '찬성'],\n",
       " ['산업안전보건법 전부개정법률안(대안)', '9771047', '전희경', '반대'],\n",
       " ['산업안전보건법 전부개정법률안(대안)', '9770523', '김광림', '기권'],\n",
       " ['산업안전보건법 전부개정법률안(대안)', '9770716', '김기선', '기권'],\n",
       " ['산업안전보건법 전부개정법률안(대안)', '9770725', '김상훈', '기권'],\n",
       " ['산업안전보건법 전부개정법률안(대안)', '9770538', '김영우', '기권'],\n",
       " ['산업안전보건법 전부개정법률안(대안)', '9770767', '박대출', '기권'],\n",
       " ['산업안전보건법 전부개정법률안(대안)', '9770768', '박덕흠', '기권'],\n",
       " ['산업안전보건법 전부개정법률안(대안)', '9770899', '박명재', '기권'],\n",
       " ['산업안전보건법 전부개정법률안(대안)', '9770944', '박성중', '기권'],\n",
       " ['산업안전보건법 전부개정법률안(대안)', '9771030', '박완수', '기권'],\n",
       " ['산업안전보건법 전부개정법률안(대안)', '9771094', '송언석', '기권'],\n",
       " ['산업안전보건법 전부개정법률안(대안)', '9770138', '심재철', '기권'],\n",
       " ['산업안전보건법 전부개정법률안(대안)', '9771034', '엄용수', '기권'],\n",
       " ['산업안전보건법 전부개정법률안(대안)', '9770387', '유기준', '기권'],\n",
       " ['산업안전보건법 전부개정법률안(대안)', '9770955', '윤상직', '기권'],\n",
       " ['산업안전보건법 전부개정법률안(대안)', '9770914', '이종배', '기권'],\n",
       " ['산업안전보건법 전부개정법률안(대안)', '9770439', '정갑윤', '기권'],\n",
       " ['산업안전보건법 전부개정법률안(대안)', '9771043', '최연혜', '기권'],\n",
       " ['산업안전보건법 전부개정법률안(대안)', '9770862', '홍문종', '기권'],\n",
       " ['산업안전보건법 전부개정법률안(대안)', '9770665', '홍일표', '기권']]"
      ]
     },
     "execution_count": 273,
     "metadata": {},
     "output_type": "execute_result"
    }
   ],
   "source": [
    "vote_result_list"
   ]
  },
  {
   "cell_type": "code",
   "execution_count": 237,
   "metadata": {},
   "outputs": [],
   "source": [
    "req2 = requests.post(bill_url, params=bill_paramter)"
   ]
  },
  {
   "cell_type": "code",
   "execution_count": 238,
   "metadata": {},
   "outputs": [],
   "source": [
    "html = req2.text"
   ]
  },
  {
   "cell_type": "code",
   "execution_count": 192,
   "metadata": {},
   "outputs": [],
   "source": [
    "from bs4 import BeautifulSoup"
   ]
  },
  {
   "cell_type": "code",
   "execution_count": 239,
   "metadata": {},
   "outputs": [],
   "source": [
    "frame = BeautifulSoup(html, 'html.parser')"
   ]
  },
  {
   "cell_type": "code",
   "execution_count": 240,
   "metadata": {},
   "outputs": [],
   "source": [
    "agree_list = frame.select('div.line01 a')"
   ]
  },
  {
   "cell_type": "code",
   "execution_count": 241,
   "metadata": {},
   "outputs": [],
   "source": [
    "disagree_list = frame.select('div.line02 a')"
   ]
  },
  {
   "cell_type": "code",
   "execution_count": 242,
   "metadata": {},
   "outputs": [],
   "source": [
    "withdraw_list = frame.select('div.line03 a')"
   ]
  },
  {
   "cell_type": "code",
   "execution_count": 243,
   "metadata": {},
   "outputs": [],
   "source": [
    "vote_result_list = [] # 결과값 저장 리스트 생성"
   ]
  },
  {
   "cell_type": "code",
   "execution_count": 217,
   "metadata": {},
   "outputs": [],
   "source": []
  },
  {
   "cell_type": "code",
   "execution_count": 244,
   "metadata": {},
   "outputs": [],
   "source": [
    "for member in agree_list:\n",
    "    member_id = extract_id(member['href']) \n",
    "    name = member.text\n",
    "    vote_result_list.append([member_id, name, '찬성'])"
   ]
  },
  {
   "cell_type": "code",
   "execution_count": 245,
   "metadata": {},
   "outputs": [],
   "source": [
    "for member in disagree_list:\n",
    "    member_id = extract_id(member['href']) \n",
    "    name = member.text\n",
    "    vote_result_list.append([member_id, name, '반대'])"
   ]
  },
  {
   "cell_type": "code",
   "execution_count": 246,
   "metadata": {},
   "outputs": [],
   "source": [
    "for member in withdraw_list:\n",
    "    member_id = extract_id(member['href']) \n",
    "    name = member.text\n",
    "    vote_result_list.append([member_id, name, '기권'])"
   ]
  },
  {
   "cell_type": "markdown",
   "metadata": {},
   "source": [
    "##  결과리스트 "
   ]
  },
  {
   "cell_type": "code",
   "execution_count": 248,
   "metadata": {},
   "outputs": [
    {
     "data": {
      "text/plain": [
       "159"
      ]
     },
     "execution_count": 248,
     "metadata": {},
     "output_type": "execute_result"
    }
   ],
   "source": [
    "len(vote_result_list)"
   ]
  },
  {
   "cell_type": "code",
   "execution_count": null,
   "metadata": {},
   "outputs": [],
   "source": [
    "fo = open('vote_result_list.csv')"
   ]
  }
 ],
 "metadata": {
  "kernelspec": {
   "display_name": "Python 3",
   "language": "python",
   "name": "python3"
  },
  "language_info": {
   "codemirror_mode": {
    "name": "ipython",
    "version": 3
   },
   "file_extension": ".py",
   "mimetype": "text/x-python",
   "name": "python",
   "nbconvert_exporter": "python",
   "pygments_lexer": "ipython3",
   "version": "3.6.1"
  }
 },
 "nbformat": 4,
 "nbformat_minor": 2
}
